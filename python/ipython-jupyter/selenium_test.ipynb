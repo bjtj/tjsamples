{
 "cells": [
  {
   "cell_type": "code",
   "execution_count": 11,
   "id": "096e5a2d-0889-4301-b906-a06c2eb8362a",
   "metadata": {},
   "outputs": [],
   "source": [
    "from selenium import webdriver\n",
    "from selenium.webdriver.common.by import By"
   ]
  },
  {
   "cell_type": "code",
   "execution_count": 3,
   "id": "7fc1f699-9b35-4e1e-824d-217c17a8601a",
   "metadata": {},
   "outputs": [],
   "source": [
    "driver = webdriver.Firefox()"
   ]
  },
  {
   "cell_type": "code",
   "execution_count": 4,
   "id": "a164be81-052b-4e51-9d13-cd3eda973e0e",
   "metadata": {},
   "outputs": [],
   "source": [
    "driver.set_window_size(600, 600)"
   ]
  },
  {
   "cell_type": "code",
   "execution_count": 6,
   "id": "cc0370fc-a4c2-442e-a87b-2c587b67514a",
   "metadata": {},
   "outputs": [],
   "source": [
    "driver.get('http://selenium.dev')"
   ]
  },
  {
   "cell_type": "code",
   "execution_count": 17,
   "id": "3d4aff59-6ff1-430e-bd0b-2cdcb6e8f7c7",
   "metadata": {},
   "outputs": [
    {
     "data": {
      "text/plain": [
       "<selenium.webdriver.remote.webelement.WebElement (session=\"61c7a5bf-2c63-4321-befe-7012ed16386c\", element=\"2ed6a0db-8d44-47b0-994f-7064d53560a4\")>"
      ]
     },
     "execution_count": 17,
     "metadata": {},
     "output_type": "execute_result"
    }
   ],
   "source": [
    "driver.find_element(By.XPATH, '//img')"
   ]
  },
  {
   "cell_type": "code",
   "execution_count": 18,
   "id": "98c0923a-d5c3-41fe-ac8e-30c1aea29dd3",
   "metadata": {},
   "outputs": [
    {
     "data": {
      "text/plain": [
       "'https://www.selenium.dev/images/sponsors/browserstack.png'"
      ]
     },
     "execution_count": 18,
     "metadata": {},
     "output_type": "execute_result"
    }
   ],
   "source": [
    "driver.find_element(By.XPATH, '//img').get_attribute('src')"
   ]
  },
  {
   "cell_type": "code",
   "execution_count": 19,
   "id": "7ffeffeb-5e36-4772-8e1f-b3a0e03486fd",
   "metadata": {},
   "outputs": [
    {
     "data": {
      "text/plain": [
       "'Selenium'"
      ]
     },
     "execution_count": 19,
     "metadata": {},
     "output_type": "execute_result"
    }
   ],
   "source": [
    "driver.title"
   ]
  },
  {
   "cell_type": "code",
   "execution_count": 20,
   "id": "5ba44303-d5a0-4aa1-892b-3f44cc47ab0e",
   "metadata": {},
   "outputs": [
    {
     "data": {
      "text/plain": [
       "'https://www.selenium.dev/'"
      ]
     },
     "execution_count": 20,
     "metadata": {},
     "output_type": "execute_result"
    }
   ],
   "source": [
    "driver.current_url"
   ]
  },
  {
   "cell_type": "code",
   "execution_count": 21,
   "id": "43395645-5c7c-4aac-8a37-79b0e88c391c",
   "metadata": {},
   "outputs": [],
   "source": [
    "driver.quit()"
   ]
  },
  {
   "cell_type": "code",
   "execution_count": null,
   "id": "03056f5e-113b-40a5-9b12-7dc38cec77e5",
   "metadata": {},
   "outputs": [],
   "source": []
  }
 ],
 "metadata": {
  "kernelspec": {
   "display_name": "Python 3 (ipykernel)",
   "language": "python",
   "name": "python3"
  },
  "language_info": {
   "codemirror_mode": {
    "name": "ipython",
    "version": 3
   },
   "file_extension": ".py",
   "mimetype": "text/x-python",
   "name": "python",
   "nbconvert_exporter": "python",
   "pygments_lexer": "ipython3",
   "version": "3.10.9"
  }
 },
 "nbformat": 4,
 "nbformat_minor": 5
}
